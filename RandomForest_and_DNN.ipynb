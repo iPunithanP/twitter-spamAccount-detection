{
 "cells": [
  {
   "cell_type": "markdown",
   "id": "afa1dab4",
   "metadata": {},
   "source": [
    "## Detect fake profiles in online social networks using Support Vector Machine"
   ]
  },
  {
   "cell_type": "code",
   "execution_count": 1,
   "id": "9bb8e109",
   "metadata": {},
   "outputs": [],
   "source": [
    "import sys\n",
    "import csv\n",
    "import datetime\n",
    "import numpy as np\n",
    "import pandas as pd\n",
    "import matplotlib.pyplot as plt\n",
    "from datetime import datetime\n",
    "import gender_guesser.detector as gender\n",
    "#from sklearn.preprocessing import Inputer\n",
    "from sklearn import model_selection\n",
    "from sklearn import metrics\n",
    "from sklearn import preprocessing\n",
    "from sklearn.linear_model import LinearRegression\n",
    "from sklearn.svm import SVC\n",
    "from sklearn.metrics import roc_curve, auc\n",
    "from sklearn.model_selection import StratifiedKFold, train_test_split\n",
    "from sklearn.metrics import accuracy_score\n",
    "from sklearn.model_selection import learning_curve, GridSearchCV\n",
    "from sklearn.metrics import classification_report\n",
    "from sklearn.metrics import confusion_matrix\n",
    "%matplotlib inline"
   ]
  },
  {
   "cell_type": "markdown",
   "id": "4af3fa42",
   "metadata": {},
   "source": [
    "### Function for reading dataset from csv files"
   ]
  },
  {
   "cell_type": "code",
   "execution_count": 2,
   "id": "56a6a811",
   "metadata": {},
   "outputs": [],
   "source": [
    "def read_datasets():\n",
    "    legit = pd.read_csv(\"DATASET/users.csv\")\n",
    "    fake = pd.read_csv(\"DATASET/fusers.csv\")\n",
    "    \n",
    "    x=pd.concat([legit,fake])\n",
    "    y=len(fake)*[0] + len(legit)*[1]\n",
    "    return x,y"
   ]
  },
  {
   "cell_type": "markdown",
   "id": "f7f3b806",
   "metadata": {},
   "source": [
    "### function for predicting sex using name of person"
   ]
  },
  {
   "cell_type": "code",
   "execution_count": 3,
   "id": "d259676d",
   "metadata": {},
   "outputs": [],
   "source": [
    "def predict_sex(name):\n",
    "    name = str(name)\n",
    "    sex_predictor = gender.Detector(case_sensitive=False)\n",
    "    first_name = name.split(' ')[0]\n",
    "    sex = sex_predictor.get_gender(first_name)\n",
    "    sex_dict = {'female': -2, 'mostly_female': -1, 'unknown': 0, 'mostly_male': 1, 'male': 2}\n",
    "    sex_code = sex_dict[sex]\n",
    "    return sex_code"
   ]
  },
  {
   "cell_type": "markdown",
   "id": "3eac2889",
   "metadata": {},
   "source": [
    "### function for feature engineering"
   ]
  },
  {
   "cell_type": "code",
   "execution_count": 4,
   "id": "ff74bbe2",
   "metadata": {},
   "outputs": [],
   "source": [
    "def extract_features(x):\n",
    "    lang_list = list(enumerate(np.unique(x['lang'])))\n",
    "    lang_dict = {name:i for i, name in lang_list}\n",
    "    x.loc[:,'lang_code'] = x['lang'].map(lambda x: lang_dict[x]).astype(int)\n",
    "    x.loc[:,'sex_code'] = predict_sex(x['name'])\n",
    "    feature_columns_to_use = ['statuses_count', 'followers_count', 'friends_count', 'favourites_count', 'listed_count', 'sex_code', 'lang_code' ]\n",
    "    x=x.loc[:,feature_columns_to_use]\n",
    "    return x"
   ]
  },
  {
   "cell_type": "markdown",
   "id": "40235d4e",
   "metadata": {},
   "source": [
    "### function for ploting learning curve"
   ]
  },
  {
   "cell_type": "code",
   "execution_count": 5,
   "id": "4124cc5e",
   "metadata": {},
   "outputs": [],
   "source": [
    "def plot_learning_curve(estimator, title, X, y, ylim=None, cv=None, n_jobs=1, train_sizes=np.linspace(.1, 1.0, 5)):\n",
    "    plt.figure()\n",
    "    plt.title(title)\n",
    "    if ylim is not None:\n",
    "        plt.ylim(*ylim)\n",
    "    plt.xlable(\"Training examples\")\n",
    "    plt.ylable(\"Score\")\n",
    "    train_scores_mean = np.mean(train_scores, axis=1)\n",
    "    train_scores_std = np.std(train_scores, axis=1)\n",
    "    test_scores_mean = np.mean(test_scores, axis=1)\n",
    "    test_scores_std = np.std(test_scores, axis=1)\n",
    "    plt.grid()\n",
    "    \n",
    "    plt.fill_between(train_sizes, train_scores_mean - train_scores_std, train_scores_mean + train_scores_std, alpha=0.1, color=\"r\")\n",
    "    plt.fill_between(train_sizes, test_scores_mean - test_scores_std, test_scores_mean + test_scores_std, alpha=0.1, color=\"g\")\n",
    "    plt.plot(train_sizes, train_scores_mean, 'o-', color=\"r\", label=\"Training score\")\n",
    "    plt.plot(train_sizes, test_scores_mean, 'o-', color=\"g\", label=\"Cross-validation score\")\n",
    "    \n",
    "    plt.legend(loc=\"best\")\n",
    "    return plt"
   ]
  },
  {
   "cell_type": "markdown",
   "id": "5ad9d477",
   "metadata": {},
   "source": [
    "### function for plotting confusion matrix"
   ]
  },
  {
   "cell_type": "code",
   "execution_count": 6,
   "id": "7cb19264",
   "metadata": {},
   "outputs": [],
   "source": [
    "def plot_confusion_matrix(cm, title='Confusion matrix', cmap=plt.cm.Blues):\n",
    "    target_names=['Fake','Legit']\n",
    "    plt.imshow(cm, interpolation='nearest', cmap=cmap)\n",
    "    plt.title(title)\n",
    "    plt.colorbar()\n",
    "    tick_marks = np.arange(len(target_names))\n",
    "    plt.xticks(tick_marks, target_names, rotation=45)\n",
    "    plot.yticks(tick_marks, target_names)\n",
    "    plt.tight_layout()\n",
    "    plt.ylabel('True lable')\n",
    "    plt.xlabel('Predicted label')"
   ]
  },
  {
   "cell_type": "markdown",
   "id": "b99c9ad0",
   "metadata": {},
   "source": [
    "### function for plotting ROC curve"
   ]
  },
  {
   "cell_type": "code",
   "execution_count": 7,
   "id": "c0df2da3",
   "metadata": {},
   "outputs": [],
   "source": [
    "def plot_roc_curve(y_test, y_pred):\n",
    "    false_positive_rate, true_positive_rate, thresholds = roc_curve(y_test, y_pred)\n",
    "    print(\"False Positive rate: \", false_positive_rate)\n",
    "    print(\"True Positive rate: \", true_positive_rate)\n",
    "    \n",
    "    roc_auc = auc(false_positive_rate, true_positive_rate)\n",
    "    \n",
    "    plt.title('Receiver Operating Characteristic')\n",
    "    plt.plot(false_positive_rate, true_positive_rate, 'b',\n",
    "    label='AUC = %0.2f'% roc_auc)\n",
    "    plt.legend(loc='lower right')\n",
    "    plt.plot([0,1],[0,1],'r--')\n",
    "    plt.xlim([-0.1,1.2])\n",
    "    plt.ylim([-0.1,1.2])\n",
    "    plt.ylabel('True Positive Rate')\n",
    "    plt.xlabel('False Positive Rate')\n",
    "    plt.show()"
   ]
  },
  {
   "cell_type": "markdown",
   "id": "24d05852",
   "metadata": {},
   "source": [
    "### function for training data using Support Vector Machine"
   ]
  },
  {
   "cell_type": "code",
   "execution_count": 8,
   "id": "c9513a47",
   "metadata": {},
   "outputs": [],
   "source": [
    "def train(X_train, y_train, X_test):\n",
    "    X_train = preprocessing.scale(X_train)\n",
    "    X_test = preprocessing.scale(X_test)\n",
    "    \n",
    "    Cs = 10.0 ** np.arange(-2,3,.5)\n",
    "    gammas = 10.0 ** np.arange(-2,3,.5)\n",
    "    param = [{'gamma': gammas, 'C':Cs}]\n",
    "    cvk = StratifiedKFold(y_train, n_folds=5)\n",
    "    classifier = SVC()\n",
    "    clf = GridSearchCV(classifier,param_grid=param,cv=cvk)\n",
    "    clf.fit(X_train,y_train)\n",
    "    print(\"The best classifier is: \", clf.best_estimator_)\n",
    "    clf.best_estimator_.fit(X_train, y_train)\n",
    "    \n",
    "    scores = cross_validation.cross_val_score(clf.best_estimator_, X_train, y_train, cv=5)\n",
    "    print(scores)\n",
    "    print('Estimated score: %0.5f (+/- %0.5f)' % (scores.mean(), scores.std() / 2))\n",
    "    title = 'Learning Curves (SVM, rbf kernel, $\\gamma=%.6f$)' %clf.best_estimator_.gamma\n",
    "    plot_learning_curve(clf.best_estimator_, title, X_train, y_train, cv=5)\n",
    "    plt.show()\n",
    "    \n",
    "    y_pred = clf.best_estimator_.predict(X_test)\n",
    "    return y_test, y_pred"
   ]
  },
  {
   "cell_type": "code",
   "execution_count": 9,
   "id": "b5a5deb6",
   "metadata": {},
   "outputs": [],
   "source": [
    "def train_randomforest(X_train, y_train, X_test):\n",
    "    X_train = preprocessing.scale(X_train)\n",
    "    X_test = preprocessing.scale(X_test)\n",
    "    \n",
    "    Cs = 10.0 ** np.arange(-2,3,.5)\n",
    "    gammas = 10.0 ** np.arange(-2,3,.5)\n",
    "    param = [{'gamma': gammas, 'C':Cs}]\n",
    "    cvk = StratifiedKFold(y_train, n_folds=5)\n",
    "    classifier = SVC()\n",
    "    clf = RandomForestClassifier()\n",
    "    clf.fit(X_train,y_train)\n",
    "    print(\"The best classifier is: \", clf.best_estimator_)\n",
    "    clf.best_estimator_.fit(X_train, y_train)\n",
    "    \n",
    "    scores = cross_validation.cross_val_score(clf.best_estimator_, X_train, y_train, cv=5)\n",
    "    print(scores)\n",
    "    print('Estimated score: %0.5f (+/- %0.5f)' % (scores.mean(), scores.std() / 2))\n",
    "    title = 'Learning Curves (SVM, rbf kernel, $\\gamma=%.6f$)' %clf.best_estimator_.gamma\n",
    "    plot_learning_curve(clf.best_estimator_, title, X_train, y_train, cv=5)\n",
    "    plt.show()\n",
    "    \n",
    "    y_pred = clf.best_estimator_.predict(X_test)\n",
    "    return y_test, y_pred"
   ]
  },
  {
   "cell_type": "code",
   "execution_count": 10,
   "id": "8cfab5e1",
   "metadata": {
    "scrolled": true
   },
   "outputs": [
    {
     "name": "stdout",
     "output_type": "stream",
     "text": [
      "reading datasets...\n",
      "\n"
     ]
    }
   ],
   "source": [
    "print(\"reading datasets...\\n\")\n",
    "x,y = read_datasets()"
   ]
  },
  {
   "cell_type": "code",
   "execution_count": 11,
   "id": "da1460c3",
   "metadata": {
    "scrolled": true
   },
   "outputs": [
    {
     "name": "stdout",
     "output_type": "stream",
     "text": [
      "extracting features...\n",
      "\n",
      "Index(['statuses_count', 'followers_count', 'friends_count',\n",
      "       'favourites_count', 'listed_count', 'sex_code', 'lang_code'],\n",
      "      dtype='object')\n",
      "       statuses_count  followers_count  friends_count  favourites_count  \\\n",
      "count     2818.000000      2818.000000    2818.000000       2818.000000   \n",
      "mean      1672.198368       371.105039     395.363023        234.541164   \n",
      "std       4884.669157      8022.631339     465.694322       1445.847248   \n",
      "min          0.000000         0.000000       0.000000          0.000000   \n",
      "25%         35.000000        17.000000     168.000000          0.000000   \n",
      "50%         77.000000        26.000000     306.000000          0.000000   \n",
      "75%       1087.750000       111.000000     519.000000         37.000000   \n",
      "max      79876.000000    408372.000000   12773.000000      44349.000000   \n",
      "\n",
      "       listed_count  sex_code    lang_code  \n",
      "count   2818.000000    2818.0  2818.000000  \n",
      "mean       2.818666       0.0     2.851313  \n",
      "std       23.480430       0.0     1.992950  \n",
      "min        0.000000       0.0     0.000000  \n",
      "25%        0.000000       0.0     1.000000  \n",
      "50%        0.000000       0.0     1.000000  \n",
      "75%        1.000000       0.0     5.000000  \n",
      "max      744.000000       0.0     7.000000  \n"
     ]
    }
   ],
   "source": [
    "print(\"extracting features...\\n\")\n",
    "x = extract_features(x)\n",
    "print(x.columns)\n",
    "print(x.describe())"
   ]
  },
  {
   "cell_type": "code",
   "execution_count": 12,
   "id": "79e69fa6",
   "metadata": {},
   "outputs": [
    {
     "data": {
      "text/html": [
       "<div>\n",
       "<style scoped>\n",
       "    .dataframe tbody tr th:only-of-type {\n",
       "        vertical-align: middle;\n",
       "    }\n",
       "\n",
       "    .dataframe tbody tr th {\n",
       "        vertical-align: top;\n",
       "    }\n",
       "\n",
       "    .dataframe thead th {\n",
       "        text-align: right;\n",
       "    }\n",
       "</style>\n",
       "<table border=\"1\" class=\"dataframe\">\n",
       "  <thead>\n",
       "    <tr style=\"text-align: right;\">\n",
       "      <th></th>\n",
       "      <th>statuses_count</th>\n",
       "      <th>followers_count</th>\n",
       "      <th>friends_count</th>\n",
       "      <th>favourites_count</th>\n",
       "      <th>listed_count</th>\n",
       "      <th>sex_code</th>\n",
       "      <th>lang_code</th>\n",
       "    </tr>\n",
       "  </thead>\n",
       "  <tbody>\n",
       "    <tr>\n",
       "      <th>0</th>\n",
       "      <td>20370</td>\n",
       "      <td>5470</td>\n",
       "      <td>2385</td>\n",
       "      <td>145</td>\n",
       "      <td>52</td>\n",
       "      <td>0</td>\n",
       "      <td>5</td>\n",
       "    </tr>\n",
       "    <tr>\n",
       "      <th>1</th>\n",
       "      <td>3131</td>\n",
       "      <td>506</td>\n",
       "      <td>381</td>\n",
       "      <td>9</td>\n",
       "      <td>40</td>\n",
       "      <td>0</td>\n",
       "      <td>1</td>\n",
       "    </tr>\n",
       "    <tr>\n",
       "      <th>2</th>\n",
       "      <td>4024</td>\n",
       "      <td>264</td>\n",
       "      <td>87</td>\n",
       "      <td>323</td>\n",
       "      <td>16</td>\n",
       "      <td>0</td>\n",
       "      <td>1</td>\n",
       "    </tr>\n",
       "    <tr>\n",
       "      <th>3</th>\n",
       "      <td>40586</td>\n",
       "      <td>640</td>\n",
       "      <td>622</td>\n",
       "      <td>1118</td>\n",
       "      <td>32</td>\n",
       "      <td>0</td>\n",
       "      <td>1</td>\n",
       "    </tr>\n",
       "    <tr>\n",
       "      <th>4</th>\n",
       "      <td>2016</td>\n",
       "      <td>62</td>\n",
       "      <td>64</td>\n",
       "      <td>13</td>\n",
       "      <td>0</td>\n",
       "      <td>0</td>\n",
       "      <td>5</td>\n",
       "    </tr>\n",
       "  </tbody>\n",
       "</table>\n",
       "</div>"
      ],
      "text/plain": [
       "   statuses_count  followers_count  friends_count  favourites_count  \\\n",
       "0           20370             5470           2385               145   \n",
       "1            3131              506            381                 9   \n",
       "2            4024              264             87               323   \n",
       "3           40586              640            622              1118   \n",
       "4            2016               62             64                13   \n",
       "\n",
       "   listed_count  sex_code  lang_code  \n",
       "0            52         0          5  \n",
       "1            40         0          1  \n",
       "2            16         0          1  \n",
       "3            32         0          1  \n",
       "4             0         0          5  "
      ]
     },
     "execution_count": 12,
     "metadata": {},
     "output_type": "execute_result"
    }
   ],
   "source": [
    "x.head()"
   ]
  },
  {
   "cell_type": "code",
   "execution_count": 13,
   "id": "323471dd",
   "metadata": {},
   "outputs": [
    {
     "ename": "AttributeError",
     "evalue": "'list' object has no attribute 'head'",
     "output_type": "error",
     "traceback": [
      "\u001b[1;31m---------------------------------------------------------------------------\u001b[0m",
      "\u001b[1;31mAttributeError\u001b[0m                            Traceback (most recent call last)",
      "\u001b[1;32m~\\AppData\\Local\\Temp\\ipykernel_18204\\3403220727.py\u001b[0m in \u001b[0;36m<module>\u001b[1;34m\u001b[0m\n\u001b[1;32m----> 1\u001b[1;33m \u001b[0my\u001b[0m\u001b[1;33m.\u001b[0m\u001b[0mhead\u001b[0m\u001b[1;33m(\u001b[0m\u001b[1;33m)\u001b[0m\u001b[1;33m\u001b[0m\u001b[1;33m\u001b[0m\u001b[0m\n\u001b[0m",
      "\u001b[1;31mAttributeError\u001b[0m: 'list' object has no attribute 'head'"
     ]
    }
   ],
   "source": []
  },
  {
   "cell_type": "code",
   "execution_count": 14,
   "id": "51918e46",
   "metadata": {},
   "outputs": [
    {
     "name": "stdout",
     "output_type": "stream",
     "text": [
      "spliting datasets in train and test dataset...\n",
      "\n"
     ]
    }
   ],
   "source": [
    "print(\"spliting datasets in train and test dataset...\\n\")\n",
    "X_train, X_test, y_train, y_test = train_test_split(x, y, test_size=0.20, random_state=44)"
   ]
  },
  {
   "cell_type": "code",
   "execution_count": 18,
   "id": "040deadd",
   "metadata": {},
   "outputs": [
    {
     "data": {
      "text/html": [
       "<div>\n",
       "<style scoped>\n",
       "    .dataframe tbody tr th:only-of-type {\n",
       "        vertical-align: middle;\n",
       "    }\n",
       "\n",
       "    .dataframe tbody tr th {\n",
       "        vertical-align: top;\n",
       "    }\n",
       "\n",
       "    .dataframe thead th {\n",
       "        text-align: right;\n",
       "    }\n",
       "</style>\n",
       "<table border=\"1\" class=\"dataframe\">\n",
       "  <thead>\n",
       "    <tr style=\"text-align: right;\">\n",
       "      <th></th>\n",
       "      <th>statuses_count</th>\n",
       "      <th>followers_count</th>\n",
       "      <th>friends_count</th>\n",
       "      <th>favourites_count</th>\n",
       "      <th>listed_count</th>\n",
       "      <th>sex_code</th>\n",
       "      <th>lang_code</th>\n",
       "    </tr>\n",
       "  </thead>\n",
       "  <tbody>\n",
       "    <tr>\n",
       "      <th>512</th>\n",
       "      <td>9950</td>\n",
       "      <td>658</td>\n",
       "      <td>701</td>\n",
       "      <td>18</td>\n",
       "      <td>11</td>\n",
       "      <td>0</td>\n",
       "      <td>5</td>\n",
       "    </tr>\n",
       "    <tr>\n",
       "      <th>630</th>\n",
       "      <td>6991</td>\n",
       "      <td>1001</td>\n",
       "      <td>614</td>\n",
       "      <td>2401</td>\n",
       "      <td>6</td>\n",
       "      <td>0</td>\n",
       "      <td>5</td>\n",
       "    </tr>\n",
       "    <tr>\n",
       "      <th>189</th>\n",
       "      <td>1809</td>\n",
       "      <td>102</td>\n",
       "      <td>392</td>\n",
       "      <td>18</td>\n",
       "      <td>1</td>\n",
       "      <td>0</td>\n",
       "      <td>5</td>\n",
       "    </tr>\n",
       "    <tr>\n",
       "      <th>343</th>\n",
       "      <td>770</td>\n",
       "      <td>42</td>\n",
       "      <td>149</td>\n",
       "      <td>28</td>\n",
       "      <td>0</td>\n",
       "      <td>0</td>\n",
       "      <td>5</td>\n",
       "    </tr>\n",
       "    <tr>\n",
       "      <th>793</th>\n",
       "      <td>20</td>\n",
       "      <td>18</td>\n",
       "      <td>317</td>\n",
       "      <td>0</td>\n",
       "      <td>0</td>\n",
       "      <td>0</td>\n",
       "      <td>1</td>\n",
       "    </tr>\n",
       "  </tbody>\n",
       "</table>\n",
       "</div>"
      ],
      "text/plain": [
       "     statuses_count  followers_count  friends_count  favourites_count  \\\n",
       "512            9950              658            701                18   \n",
       "630            6991             1001            614              2401   \n",
       "189            1809              102            392                18   \n",
       "343             770               42            149                28   \n",
       "793              20               18            317                 0   \n",
       "\n",
       "     listed_count  sex_code  lang_code  \n",
       "512            11         0          5  \n",
       "630             6         0          5  \n",
       "189             1         0          5  \n",
       "343             0         0          5  \n",
       "793             0         0          1  "
      ]
     },
     "execution_count": 18,
     "metadata": {},
     "output_type": "execute_result"
    }
   ],
   "source": [
    "X_test.head()"
   ]
  },
  {
   "cell_type": "markdown",
   "id": "96eacde8",
   "metadata": {},
   "source": [
    "## Random Forest"
   ]
  },
  {
   "cell_type": "code",
   "execution_count": 14,
   "id": "b94f6ecb",
   "metadata": {},
   "outputs": [],
   "source": [
    "from sklearn.ensemble import RandomForestClassifier"
   ]
  },
  {
   "cell_type": "code",
   "execution_count": 15,
   "id": "9bf8dff2",
   "metadata": {},
   "outputs": [],
   "source": [
    "random_forest = RandomForestClassifier(n_estimators=100)"
   ]
  },
  {
   "cell_type": "code",
   "execution_count": 16,
   "id": "82d51c9f",
   "metadata": {},
   "outputs": [
    {
     "data": {
      "text/plain": [
       "RandomForestClassifier()"
      ]
     },
     "execution_count": 16,
     "metadata": {},
     "output_type": "execute_result"
    }
   ],
   "source": [
    "random_forest.fit(X_train, y_train)"
   ]
  },
  {
   "cell_type": "code",
   "execution_count": 17,
   "id": "37d044d8",
   "metadata": {},
   "outputs": [],
   "source": [
    "y_pred = random_forest.predict(X_test)"
   ]
  },
  {
   "cell_type": "code",
   "execution_count": 18,
   "id": "0cec7354",
   "metadata": {},
   "outputs": [
    {
     "data": {
      "text/plain": [
       "0.9432624113475178"
      ]
     },
     "execution_count": 18,
     "metadata": {},
     "output_type": "execute_result"
    }
   ],
   "source": [
    "random_forest.score(X_test, y_test)"
   ]
  },
  {
   "cell_type": "code",
   "execution_count": 19,
   "id": "4e414fd2",
   "metadata": {},
   "outputs": [
    {
     "name": "stdout",
     "output_type": "stream",
     "text": [
      "False Positive rate:  [0.         0.00746269 1.        ]\n",
      "True Positive rate:  [0.         0.89864865 1.        ]\n"
     ]
    },
    {
     "data": {
      "image/png": "[encoded data removed]",
      "text/plain": [
       "<Figure size 640x480 with 1 Axes>"
      ]
     },
     "metadata": {},
     "output_type": "display_data"
    }
   ],
   "source": [
    "plot_roc_curve(y_test, y_pred)"
   ]
  },
  {
   "cell_type": "code",
   "execution_count": 20,
   "id": "ca899691",
   "metadata": {},
   "outputs": [],
   "source": [
    "cnf_matrix = confusion_matrix(y_test, y_pred)"
   ]
  },
  {
   "cell_type": "code",
   "execution_count": 21,
   "id": "0f5cd15a",
   "metadata": {},
   "outputs": [
    {
     "name": "stdout",
     "output_type": "stream",
     "text": [
      "[[266   2]\n",
      " [ 30 266]]\n"
     ]
    }
   ],
   "source": [
    "print(cnf_matrix)"
   ]
  },
  {
   "cell_type": "code",
   "execution_count": 22,
   "id": "4d8d9621",
   "metadata": {
    "scrolled": true
   },
   "outputs": [
    {
     "data": {
      "text/plain": [
       "<AxesSubplot:>"
      ]
     },
     "execution_count": 22,
     "metadata": {},
     "output_type": "execute_result"
    },
    {
     "data": {
      "image/png": "[encoded data removed]",
      "text/plain": [
       "<Figure size 640x480 with 2 Axes>"
      ]
     },
     "metadata": {},
     "output_type": "display_data"
    }
   ],
   "source": [
    "import seaborn as sns\n",
    "labels = [0,1]\n",
    "sns.heatmap(cnf_matrix, annot=True, cmap=\"YlGnBu\", fmt=\".3f\", xticklabels=labels, yticklabels=labels)"
   ]
  },
  {
   "cell_type": "markdown",
   "id": "5db29746",
   "metadata": {},
   "source": [
    "## Deep Neural Network"
   ]
  },
  {
   "cell_type": "code",
   "execution_count": 25,
   "id": "93c89c42",
   "metadata": {},
   "outputs": [],
   "source": [
    "from keras.models import Sequential\n",
    "from keras.layers import Dense\n",
    "from keras.layers import Dropout"
   ]
  },
  {
   "cell_type": "code",
   "execution_count": 26,
   "id": "4ee0a400",
   "metadata": {},
   "outputs": [],
   "source": [
    "model = Sequential([\n",
    "    Dense(units=16, input_dim=7, activation='relu'),\n",
    "    Dense(units=24, activation='relu'),\n",
    "    Dropout(0.5),\n",
    "    Dense(20, activation='relu'),\n",
    "    Dense(24, activation='relu'),\n",
    "    Dense(1, activation='sigmoid')\n",
    "])"
   ]
  },
  {
   "cell_type": "code",
   "execution_count": 27,
   "id": "8a454205",
   "metadata": {},
   "outputs": [
    {
     "name": "stdout",
     "output_type": "stream",
     "text": [
      "Model: \"sequential\"\n",
      "_________________________________________________________________\n",
      " Layer (type)                Output Shape              Param #   \n",
      "=================================================================\n",
      " dense (Dense)               (None, 16)                128       \n",
      "                                                                 \n",
      " dense_1 (Dense)             (None, 24)                408       \n",
      "                                                                 \n",
      " dropout (Dropout)           (None, 24)                0         \n",
      "                                                                 \n",
      " dense_2 (Dense)             (None, 20)                500       \n",
      "                                                                 \n",
      " dense_3 (Dense)             (None, 24)                504       \n",
      "                                                                 \n",
      " dense_4 (Dense)             (None, 1)                 25        \n",
      "                                                                 \n",
      "=================================================================\n",
      "Total params: 1,565\n",
      "Trainable params: 1,565\n",
      "Non-trainable params: 0\n",
      "_________________________________________________________________\n"
     ]
    }
   ],
   "source": [
    "model.summary()"
   ]
  },
  {
   "cell_type": "code",
   "execution_count": 28,
   "id": "ae2ff37d",
   "metadata": {},
   "outputs": [
    {
     "name": "stdout",
     "output_type": "stream",
     "text": [
      "Epoch 1/5\n",
      "322/322 [==============================] - 1s 1ms/step - loss: 16.0725 - accuracy: 0.8079\n",
      "Epoch 2/5\n",
      "322/322 [==============================] - 0s 1ms/step - loss: 14.5467 - accuracy: 0.8452\n",
      "Epoch 3/5\n",
      "322/322 [==============================] - 0s 976us/step - loss: 7.3957 - accuracy: 0.8469\n",
      "Epoch 4/5\n",
      "322/322 [==============================] - 0s 1ms/step - loss: 6.6994 - accuracy: 0.8886\n",
      "Epoch 5/5\n",
      "322/322 [==============================] - 0s 1ms/step - loss: 5.3492 - accuracy: 0.8651\n"
     ]
    },
    {
     "data": {
      "text/plain": [
       "<keras.callbacks.History at 0x2058c125fa0>"
      ]
     },
     "execution_count": 28,
     "metadata": {},
     "output_type": "execute_result"
    }
   ],
   "source": [
    "model.compile(optimizer='adam', loss='binary_crossentropy', metrics=['accuracy'])\n",
    "X_train = np.array(X_train)\n",
    "y_train = np.array(y_train)\n",
    "model.fit(X_train, y_train, batch_size=7, epochs=5)"
   ]
  },
  {
   "cell_type": "code",
   "execution_count": 29,
   "id": "4061bdc0",
   "metadata": {
    "scrolled": true
   },
   "outputs": [
    {
     "name": "stdout",
     "output_type": "stream",
     "text": [
      "18/18 [==============================] - 0s 1ms/step - loss: 5.5801 - accuracy: 0.8723\n"
     ]
    }
   ],
   "source": [
    "X_test = np.array(X_test)\n",
    "y_test = np.array(y_test)\n",
    "score = model.evaluate(X_test, y_test)"
   ]
  },
  {
   "cell_type": "code",
   "execution_count": 30,
   "id": "5d6653de",
   "metadata": {},
   "outputs": [
    {
     "name": "stdout",
     "output_type": "stream",
     "text": [
      "[5.580066680908203, 0.8723404407501221]\n",
      "0.8723404407501221\n"
     ]
    }
   ],
   "source": [
    "print(score)\n",
    "\n",
    "result_dnn = score[1]\n",
    "print(result_dnn)"
   ]
  },
  {
   "cell_type": "code",
   "execution_count": 31,
   "id": "34e42434",
   "metadata": {},
   "outputs": [
    {
     "name": "stdout",
     "output_type": "stream",
     "text": [
      "18/18 [==============================] - 0s 826us/step\n"
     ]
    }
   ],
   "source": [
    "y_pred = model.predict(X_test)\n",
    "y_test = pd.DataFrame(y_test)"
   ]
  },
  {
   "cell_type": "code",
   "execution_count": 32,
   "id": "55768858",
   "metadata": {},
   "outputs": [
    {
     "name": "stdout",
     "output_type": "stream",
     "text": [
      "False Positive rate:  [0.         0.01865672 0.01865672 0.0261194  0.0261194  0.02985075\n",
      " 0.02985075 0.03731343 0.03731343 0.04104478 0.04104478 0.04477612\n",
      " 0.04477612 0.04850746 0.04850746 0.05223881 0.05223881 0.05597015\n",
      " 0.05597015 0.05970149 0.05970149 0.05970149 0.05970149 0.06343284\n",
      " 0.06343284 0.06716418 0.06716418 0.07089552 0.07089552 0.07462687\n",
      " 0.07462687 0.08208955 0.08208955 0.0858209  0.0858209  0.10447761\n",
      " 0.10447761 0.10820896 0.10820896 0.1119403  0.1119403  0.1119403\n",
      " 0.12313433 0.12313433 0.13059701 0.13059701 0.1380597  0.1380597\n",
      " 0.14179104 0.14179104 0.14925373 0.14925373 0.16791045 0.16791045\n",
      " 0.17537313 0.17537313 0.23507463 0.23507463 0.31716418 0.31716418\n",
      " 0.32462687 0.32462687 0.33955224 0.33955224 0.37686567 0.37686567\n",
      " 0.39179104 0.39179104 0.41044776 0.41044776 0.43656716 0.43656716\n",
      " 0.51119403 0.51119403 0.51492537 0.51492537 0.51865672 0.51865672\n",
      " 0.53731343 0.53731343 0.55223881 0.55223881 0.61940299 0.61940299\n",
      " 0.63432836 0.63432836 0.74626866 0.74626866 0.75373134 0.75373134\n",
      " 0.77238806 0.77238806 0.82835821 1.        ]\n",
      "True Positive rate:  [0.         0.         0.00337838 0.00337838 0.01013514 0.01013514\n",
      " 0.06418919 0.06418919 0.19594595 0.19594595 0.25675676 0.25675676\n",
      " 0.31756757 0.31756757 0.36486486 0.36486486 0.5472973  0.5472973\n",
      " 0.5777027  0.5777027  0.63175676 0.63851351 0.74324324 0.74324324\n",
      " 0.79054054 0.79054054 0.80067568 0.80067568 0.80743243 0.80743243\n",
      " 0.81756757 0.81756757 0.82094595 0.82094595 0.82432432 0.82432432\n",
      " 0.83783784 0.83783784 0.85472973 0.85472973 0.88175676 0.88851351\n",
      " 0.88851351 0.89527027 0.89527027 0.89864865 0.89864865 0.90202703\n",
      " 0.90202703 0.90878378 0.90878378 0.91216216 0.91216216 0.91554054\n",
      " 0.91554054 0.9222973  0.9222973  0.92567568 0.92567568 0.92905405\n",
      " 0.92905405 0.93243243 0.93243243 0.93581081 0.93581081 0.93918919\n",
      " 0.93918919 0.94256757 0.94256757 0.94594595 0.94594595 0.9527027\n",
      " 0.9527027  0.95608108 0.95608108 0.95945946 0.95945946 0.96283784\n",
      " 0.96283784 0.96621622 0.96621622 0.96959459 0.96959459 0.97297297\n",
      " 0.97297297 0.97635135 0.97635135 0.97972973 0.97972973 0.98310811\n",
      " 0.98310811 0.98648649 0.98648649 1.        ]\n"
     ]
    },
    {
     "data": {
      "image/png": "[encoded data removed]",
      "text/plain": [
       "<Figure size 640x480 with 1 Axes>"
      ]
     },
     "metadata": {},
     "output_type": "display_data"
    }
   ],
   "source": [
    "plot_roc_curve(y_test, y_pred)"
   ]
  },
  {
   "cell_type": "code",
   "execution_count": 33,
   "id": "9b4fb3f2",
   "metadata": {},
   "outputs": [],
   "source": [
    "cnf_matrix = confusion_matrix(y_test, y_pred.round())"
   ]
  },
  {
   "cell_type": "code",
   "execution_count": 34,
   "id": "e76fd749",
   "metadata": {},
   "outputs": [
    {
     "name": "stdout",
     "output_type": "stream",
     "text": [
      "[[221  47]\n",
      " [ 25 271]]\n"
     ]
    }
   ],
   "source": [
    "print(cnf_matrix)"
   ]
  },
  {
   "cell_type": "code",
   "execution_count": 35,
   "id": "f330fc36",
   "metadata": {
    "scrolled": true
   },
   "outputs": [
    {
     "data": {
      "text/plain": [
       "<AxesSubplot:>"
      ]
     },
     "execution_count": 35,
     "metadata": {},
     "output_type": "execute_result"
    },
    {
     "data": {
      "image/png": "[encoded data removed]",
      "text/plain": [
       "<Figure size 640x480 with 2 Axes>"
      ]
     },
     "metadata": {},
     "output_type": "display_data"
    }
   ],
   "source": [
    "import seaborn as sns\n",
    "labels = [0,1]\n",
    "sns.heatmap(cnf_matrix, annot=True, cmap=\"YlGnBu\", fmt=\".3f\", xticklabels=labels, yticklabels=labels)"
   ]
  },
  {
   "cell_type": "markdown",
   "id": "daa02c5c",
   "metadata": {},
   "source": [
    "## Logistic Regression"
   ]
  },
  {
   "cell_type": "code",
   "execution_count": 38,
   "id": "356ccec6",
   "metadata": {},
   "outputs": [
    {
     "data": {
      "text/plain": [
       "GaussianNB()"
      ]
     },
     "execution_count": 38,
     "metadata": {},
     "output_type": "execute_result"
    }
   ],
   "source": [
    "from sklearn.naive_bayes import GaussianNB \n",
    "\n",
    "naive_bayes_classifier = GaussianNB()\n",
    "naive_bayes_classifier.fit(X_train, y_train)"
   ]
  },
  {
   "cell_type": "code",
   "execution_count": 39,
   "id": "08415ccd",
   "metadata": {},
   "outputs": [],
   "source": [
    "naive_bayes_classifier_pred = naive_bayes_classifier.predict(X_test)"
   ]
  },
  {
   "cell_type": "code",
   "execution_count": 40,
   "id": "86613d62",
   "metadata": {},
   "outputs": [
    {
     "data": {
      "text/plain": [
       "0.6117021276595744"
      ]
     },
     "execution_count": 40,
     "metadata": {},
     "output_type": "execute_result"
    }
   ],
   "source": [
    "naive_bayes_classifier.score(X_test, y_test)"
   ]
  },
  {
   "cell_type": "code",
   "execution_count": 41,
   "id": "16cf3cc7",
   "metadata": {
    "scrolled": true
   },
   "outputs": [
    {
     "name": "stdout",
     "output_type": "stream",
     "text": [
      "False Positive rate:  [0.         0.79850746 1.        ]\n",
      "True Positive rate:  [0.         0.98310811 1.        ]\n"
     ]
    },
    {
     "data": {
      "image/png": "[encoded data removed]",
      "text/plain": [
       "<Figure size 640x480 with 1 Axes>"
      ]
     },
     "metadata": {},
     "output_type": "display_data"
    }
   ],
   "source": [
    "plot_roc_curve(y_test, naive_bayes_classifier_pred)"
   ]
  },
  {
   "cell_type": "code",
   "execution_count": 42,
   "id": "26f1d7b1",
   "metadata": {},
   "outputs": [
    {
     "name": "stdout",
     "output_type": "stream",
     "text": [
      "[[ 54 214]\n",
      " [  5 291]]\n"
     ]
    }
   ],
   "source": [
    "cnf_matrix = confusion_matrix(y_test, naive_bayes_classifier_pred.round())\n",
    "print(cnf_matrix)"
   ]
  },
  {
   "cell_type": "code",
   "execution_count": 43,
   "id": "d3029850",
   "metadata": {},
   "outputs": [
    {
     "data": {
      "text/plain": [
       "<AxesSubplot:>"
      ]
     },
     "execution_count": 43,
     "metadata": {},
     "output_type": "execute_result"
    },
    {
     "data": {
      "image/png": "[encoded data removed]",
      "text/plain": [
       "<Figure size 640x480 with 2 Axes>"
      ]
     },
     "metadata": {},
     "output_type": "display_data"
    }
   ],
   "source": [
    "import seaborn as sns\n",
    "labels = [0,1]\n",
    "sns.heatmap(cnf_matrix, annot=True, cmap=\"YlGnBu\", fmt=\".3f\", xticklabels=labels, yticklabels=labels)"
   ]
  },
  {
   "cell_type": "markdown",
   "id": "c4a7ade4",
   "metadata": {},
   "source": [
    "## Decision Tree Classifier"
   ]
  },
  {
   "cell_type": "code",
   "execution_count": 44,
   "id": "b19b5b00",
   "metadata": {},
   "outputs": [
    {
     "data": {
      "text/plain": [
       "DecisionTreeClassifier()"
      ]
     },
     "execution_count": 44,
     "metadata": {},
     "output_type": "execute_result"
    }
   ],
   "source": [
    "from sklearn.tree import DecisionTreeClassifier\n",
    "\n",
    "Tree_classifier = DecisionTreeClassifier()\n",
    "Tree_classifier.fit(X_train, y_train)"
   ]
  },
  {
   "cell_type": "code",
   "execution_count": 45,
   "id": "b3c888e0",
   "metadata": {},
   "outputs": [],
   "source": [
    "classifier_pred = Tree_classifier.predict(X_test)"
   ]
  },
  {
   "cell_type": "code",
   "execution_count": 46,
   "id": "033fb008",
   "metadata": {},
   "outputs": [
    {
     "data": {
      "text/plain": [
       "0.9024822695035462"
      ]
     },
     "execution_count": 46,
     "metadata": {},
     "output_type": "execute_result"
    }
   ],
   "source": [
    "Tree_classifier.score(X_test, y_test)"
   ]
  },
  {
   "cell_type": "code",
   "execution_count": 47,
   "id": "a232a6bf",
   "metadata": {
    "scrolled": true
   },
   "outputs": [
    {
     "name": "stdout",
     "output_type": "stream",
     "text": [
      "False Positive rate:  [0.        0.1119403 1.       ]\n",
      "True Positive rate:  [0.         0.91554054 1.        ]\n"
     ]
    },
    {
     "data": {
      "image/png": "[encoded data removed]",
      "text/plain": [
       "<Figure size 640x480 with 1 Axes>"
      ]
     },
     "metadata": {},
     "output_type": "display_data"
    }
   ],
   "source": [
    "plot_roc_curve(y_test, classifier_pred)"
   ]
  },
  {
   "cell_type": "code",
   "execution_count": 48,
   "id": "0395c685",
   "metadata": {},
   "outputs": [
    {
     "name": "stdout",
     "output_type": "stream",
     "text": [
      "[[238  30]\n",
      " [ 25 271]]\n"
     ]
    }
   ],
   "source": [
    "cnf_matrix = confusion_matrix(y_test, classifier_pred.round())\n",
    "print(cnf_matrix)"
   ]
  },
  {
   "cell_type": "code",
   "execution_count": 49,
   "id": "5d189ff4",
   "metadata": {
    "scrolled": true
   },
   "outputs": [
    {
     "data": {
      "text/plain": [
       "<AxesSubplot:>"
      ]
     },
     "execution_count": 49,
     "metadata": {},
     "output_type": "execute_result"
    },
    {
     "data": {
      "image/png": "[encoded data removed]",
      "text/plain": [
       "<Figure size 640x480 with 2 Axes>"
      ]
     },
     "metadata": {},
     "output_type": "display_data"
    }
   ],
   "source": [
    "import seaborn as sns\n",
    "labels = [0,1]\n",
    "sns.heatmap(cnf_matrix, annot=True, cmap=\"YlGnBu\", fmt=\".3f\", xticklabels=labels, yticklabels=labels)"
   ]
  },
  {
   "cell_type": "markdown",
   "id": "90b802a6",
   "metadata": {},
   "source": [
    "# Selecting best suitable model to predict fake profiles on twitter\n",
    "\n",
    "## 1. Random Forest Classifier has shown better accuracy.\n",
    "## 2. Random Forest Classifier AUC = 0.95\n",
    "\n"
   ]
  },
  {
   "cell_type": "code",
   "execution_count": 53,
   "id": "baf29500",
   "metadata": {},
   "outputs": [],
   "source": [
    "import pickle\n",
    "\n",
    "filename = 'bestmodel.sav'\n",
    "pickle.dump(random_forest.predict, open(filename, 'wb'))\n",
    "\n",
    "#Loading the model\n",
    "loaded_model = pickle.load(open('bestmodel.sav', 'rb'))"
   ]
  },
  {
   "cell_type": "code",
   "execution_count": 55,
   "id": "842e6f02",
   "metadata": {},
   "outputs": [
    {
     "name": "stdout",
     "output_type": "stream",
     "text": [
      "[1]\n",
      "The account is fake\n"
     ]
    },
    {
     "name": "stderr",
     "output_type": "stream",
     "text": [
      "C:\\Users\\punit\\anaconda3\\lib\\site-packages\\sklearn\\base.py:450: UserWarning: X does not have valid feature names, but RandomForestClassifier was fitted with feature names\n",
      "  warnings.warn(\n"
     ]
    }
   ],
   "source": [
    "#Testing the Loaded Model\n",
    "input_data = (24, 4, 588, 16, 0, 0, 1)\n",
    "np_arr = np.asarray(input_data)\n",
    "arr_reshape = np_arr.reshape(1,-1)\n",
    "\n",
    "prediction = loaded_model(arr_reshape)\n",
    "\n",
    "print(prediction)\n",
    "\n",
    "if (prediction[0] == 0):\n",
    "    print('The account is legit')\n",
    "else:\n",
    "    print('The account is fake')"
   ]
  },
  {
   "cell_type": "code",
   "execution_count": 56,
   "id": "a3dcf826",
   "metadata": {},
   "outputs": [
    {
     "name": "stdout",
     "output_type": "stream",
     "text": [
      "[0]\n",
      "The account is legit\n"
     ]
    },
    {
     "name": "stderr",
     "output_type": "stream",
     "text": [
      "C:\\Users\\punit\\anaconda3\\lib\\site-packages\\sklearn\\base.py:450: UserWarning: X does not have valid feature names, but RandomForestClassifier was fitted with feature names\n",
      "  warnings.warn(\n"
     ]
    }
   ],
   "source": [
    "input_data = (20370, 5470, 2385, 145, 52, 2, 5)\n",
    "np_arr = np.asarray(input_data)\n",
    "arr_reshape = np_arr.reshape(1,-1)\n",
    "\n",
    "prediction = loaded_model(arr_reshape)\n",
    "\n",
    "print(prediction)\n",
    "\n",
    "if (prediction[0] == 0):\n",
    "    print('The account is legit')\n",
    "else:\n",
    "    print('The account is fake')"
   ]
  }
 ],
 "metadata": {
  "kernelspec": {
   "display_name": "Python 3 (ipykernel)",
   "language": "python",
   "name": "python3"
  },
  "language_info": {
   "codemirror_mode": {
    "name": "ipython",
    "version": 3
   },
   "file_extension": ".py",
   "mimetype": "text/x-python",
   "name": "python",
   "nbconvert_exporter": "python",
   "pygments_lexer": "ipython3",
   "version": "3.9.13"
  }
 },
 "nbformat": 4,
 "nbformat_minor": 5
}
